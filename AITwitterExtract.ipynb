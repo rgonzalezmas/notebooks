{
  "nbformat": 4,
  "nbformat_minor": 0,
  "metadata": {
    "colab": {
      "name": "AITwitterExtract.ipynb",
      "provenance": [],
      "authorship_tag": "ABX9TyO45V7ew6E2enzlyQLiAc1y",
      "include_colab_link": true
    },
    "kernelspec": {
      "display_name": "Python 3",
      "name": "python3"
    },
    "language_info": {
      "name": "python"
    }
  },
  "cells": [
    {
      "cell_type": "markdown",
      "metadata": {
        "id": "view-in-github",
        "colab_type": "text"
      },
      "source": [
        "<a href=\"https://colab.research.google.com/github/rgonzalezmas/notebooks/blob/main/AITwitterExtract.ipynb\" target=\"_parent\"><img src=\"https://colab.research.google.com/assets/colab-badge.svg\" alt=\"Open In Colab\"/></a>"
      ]
    },
    {
      "cell_type": "code",
      "metadata": {
        "id": "nB8GLCIZlYTA"
      },
      "source": [
        "# coding:utf-8\n",
        "\n",
        "import tweepy\n",
        "import csv\n",
        "import time\n",
        "from datetime import datetime, date, timedelta\n",
        "import re\n",
        "\n",
        "#Obtenim data actual\n",
        "today = datetime.today()\n",
        "#Especifiquem un rang de dates per obtenir tweets (Exemple 20 dies)\n",
        "tweet_begin_date = datetime.strftime(today - timedelta(days=20), '%Y-%m-%d_00:00:00')\n",
        "tweet_end_date = datetime.strftime((today), '%Y-%m-%d_23:59:00')\n",
        "\n",
        "\n",
        "# Guardem CSV a arrel del projecte\n",
        "csv_dir = './'\n",
        "\n",
        "# Twitter API KEY - Obtingudes servei API Twitter, user @regonzalezmas\n",
        "Consumer_key = \"MGVRn15j2DLuDXmimfKV0s2vs\"\n",
        "Consumer_secret = \"Ah8a6HkFvgsWkwAS3MY7uftq8Rh6TIPUQKOwxw8H9rjVCikxtk\"\n",
        "Access_token =\"240674330-l6x04wZ59zJni7Aoy37H5re9raCDYPkJrZH3wuFS\"\n",
        "Access_secret = \"zyJsBlM4SgpflawPFOYd9bUZNq0zyxaArLN2dWjIPhGvR\"\n",
        "\n",
        "\n",
        "#Autenticació Twitter API \n",
        "def authTwitter():\n",
        "        auth = tweepy.OAuthHandler(Consumer_key, Consumer_secret)\n",
        "        auth.set_access_token(Access_token, Access_secret)\n",
        "        api = tweepy.API(auth, retry_count=3,retry_delay=40,retry_errors=set([401, 404, 500, 502, 503, 504]), wait_on_rate_limit = True, wait_on_rate_limit_notify=True)\n",
        "        return(api)\n",
        "\n",
        "#Funció per obtenir tweets\n",
        "def get_tweet(s):\n",
        "        api = authTwitter() #Auth\n",
        "        tweet_list = []\n",
        "        tweet_id_list = []\n",
        "        user_id_list = []\n",
        "\n",
        "        tweets = tweepy.Cursor(api.search, q = s,     #String cerca\n",
        "                 include_entities = True,   \n",
        "                 tweet_mode = 'extended',   \n",
        "                 since = tweet_begin_date,    \n",
        "                 lang = 'ca').items()       #Idioma català\n",
        "\n",
        "        #Guardem tweet a una llista\n",
        "        for tweet in tweets:\n",
        "                tweet_list.append([tweet.id, tweet.user.screen_name, tweet.created_at, tweet.full_text.replace('\\n',''), tweet.favorite_count, tweet.retweet_count])\n",
        "                tweet_id_list.append(tweet.id)\n",
        "                user_id_list.append(tweet.user.screen_name)\n",
        "        #Sortida en fitxer csv\n",
        "        with open(csv_dir+'tweet_'+ today.strftime('%Y%m%d_%H%M%S') + '.csv', 'w',newline='',encoding='utf-8') as f:\n",
        "                writer = csv.writer(f, lineterminator='\\n')\n",
        "                writer.writerow([\"id\",\"user\",\"created_at\",\"text\",\"fav\",\"RT\"])\n",
        "                writer.writerows(tweet_list)\n",
        "        pass\n",
        "\n",
        "def main():\n",
        "        #get_tweet(\"(to:vallsajuntament OR to:reus_cat OR to:elvendrell_cat) lang:ca\")\n",
        "        get_tweet(\"(to:bcn_ajuntament) lang:ca\")\n",
        "        #get_tweet(\"(to:barcelona_010) lang:ca\")\n",
        "        #get_tweet(\"(to:TGNAjuntament) lang:ca\")\n",
        "        #get_tweet(\"(to:paerialleida) lang:ca\")\n",
        "        #get_tweet(\"(to:girona_cat) lang:ca\")\n",
        "        #get_tweet(\"(to:012) lang:ca\")\n",
        "        #get_tweet(\"(to:gencat) lang:ca\")\n",
        "\n",
        "if __name__ == \"__main__\":\n",
        "        main()"
      ],
      "execution_count": null,
      "outputs": []
    }
  ]
}